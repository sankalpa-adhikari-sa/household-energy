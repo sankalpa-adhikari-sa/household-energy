{
 "cells": [
  {
   "cell_type": "code",
   "execution_count": 91,
   "metadata": {},
   "outputs": [],
   "source": [
    "import pandas as pd\n",
    "from scipy.stats import chi2_contingency\n"
   ]
  },
  {
   "cell_type": "code",
   "execution_count": 92,
   "metadata": {},
   "outputs": [
    {
     "name": "stdout",
     "output_type": "stream",
     "text": [
      "<class 'pandas.core.frame.DataFrame'>\n",
      "RangeIndex: 570 entries, 0 to 569\n",
      "Data columns (total 49 columns):\n",
      " #   Column                                                                                                                                        Non-Null Count  Dtype  \n",
      "---  ------                                                                                                                                        --------------  -----  \n",
      " 0   Timestamp                                                                                                                                     566 non-null    object \n",
      " 1   Full Name                                                                                                                                     565 non-null    object \n",
      " 2   Gender                                                                                                                                        565 non-null    object \n",
      " 3   Region                                                                                                                                        565 non-null    object \n",
      " 4   Province                                                                                                                                      565 non-null    object \n",
      " 5   Disctrict                                                                                                                                     565 non-null    object \n",
      " 6   Municipality                                                                                                                                  565 non-null    object \n",
      " 7   Rural/ Urban                                                                                                                                  565 non-null    object \n",
      " 8   Religion                                                                                                                                      565 non-null    object \n",
      " 9   No. of family member                                                                                                                          565 non-null    float64\n",
      " 10  Father education level                                                                                                                        565 non-null    object \n",
      " 11  Mother education level                                                                                                                        565 non-null    object \n",
      " 12  Family Annual Income (NPR)                                                                                                                    565 non-null    object \n",
      " 13  What is the type of your household? [Current]                                                                                                 565 non-null    object \n",
      " 14  What is the type of your household? [5 years ago]                                                                                             565 non-null    object \n",
      " 15  What is the type of your household? [10 years ago]                                                                                            565 non-null    object \n",
      " 16  What were primary source of energy used for cooking in your house? [Current]                                                                  565 non-null    object \n",
      " 17  What were primary source of energy used for cooking in your house? [5 years ago]                                                              565 non-null    object \n",
      " 18  What were primary source of energy used for cooking in your house? [10 years ago]                                                             565 non-null    object \n",
      " 19  What were the primary sources of energy used for lightning your house? [Current]                                                              565 non-null    object \n",
      " 20  What were the primary sources of energy used for lightning your house? [5 years ago]                                                          565 non-null    object \n",
      " 21  What were the primary sources of energy used for lightning your house? [10 years ago]                                                         565 non-null    object \n",
      " 22  What were the primary sources of energy used for heating(space) purposes? [Current]                                                           565 non-null    object \n",
      " 23  What were the primary sources of energy used for heating(space) purposes? [5 years ago]                                                       565 non-null    object \n",
      " 24  What were the primary sources of energy used for heating(space) purposes? [10 years ago]                                                      565 non-null    object \n",
      " 25  What were the primary sources of energy used for cooling purposes? [Current]                                                                  565 non-null    object \n",
      " 26  What were the primary sources of energy used for cooling purposes? [5 years ago]                                                              565 non-null    object \n",
      " 27  What were the primary sources of energy used for cooling purposes? [10 years ago]                                                             565 non-null    object \n",
      " 28  How often did you experienced power cuts ? [Current]                                                                                          565 non-null    object \n",
      " 29  How often did you experienced power cuts ? [5 years ago]                                                                                      565 non-null    object \n",
      " 30  How often did you experienced power cuts ? [10 years ago]                                                                                     565 non-null    object \n",
      " 31  On average, how much electricity was consumed per month? [Current]                                                                            565 non-null    object \n",
      " 32  On average, how much electricity was consumed per month? [5 years ago]                                                                        565 non-null    object \n",
      " 33  On average, how much electricity was consumed per month? [10 years ago]                                                                       565 non-null    object \n",
      " 34  What sources of energy is used most at your home? [Current]                                                                                   565 non-null    object \n",
      " 35  What sources of energy is used most at your home? [5 years ago]                                                                               565 non-null    object \n",
      " 36  What sources of energy is used most at your home? [10 years ago]                                                                              565 non-null    object \n",
      " 37  Do you use any alternative source of energy in your household?                                                                                565 non-null    object \n",
      " 38  If you answered \"Yes\" to previous question , which alternate source of energy do you use?(select all that apply)                              221 non-null    object \n",
      " 39  How many hours a day do you typically use electricity in your household? [Current]                                                            565 non-null    object \n",
      " 40  How many hours a day do you typically use electricity in your household? [5 years ago]                                                        565 non-null    object \n",
      " 41  How many hours a day do you typically use electricity in your household? [10 years ago]                                                       565 non-null    object \n",
      " 42  Do you think that current energy supply to area meets the energy requirement to your household needs?                                         565 non-null    object \n",
      " 43  If you answered \"NO\" to previous question, what are the primary reason for the energy supply being insufficient? (select all that may apply)  188 non-null    object \n",
      " 44  What factor influence your decision to choose a particular energy source or appliance?                                                        565 non-null    object \n",
      " 45  How would you rate the affordability of energy in your household                                                                              565 non-null    object \n",
      " 46  How do you manage your household waste?                                                                                                       565 non-null    object \n",
      " 47  Do your house got connected to national electricity grid?                                                                                     565 non-null    object \n",
      " 48  What kind of  road access do you have at your locality?                                                                                       563 non-null    object \n",
      "dtypes: float64(1), object(48)\n",
      "memory usage: 218.3+ KB\n"
     ]
    }
   ],
   "source": [
    "data=pd.read_excel(\"./data/A-SURVEY-ON-_HOUSEHOLD-ENERGY-CONSUMPTION-PATTERN-IN-NEPAL_-Responses.xlsx\")\n",
    "data.info()"
   ]
  },
  {
   "cell_type": "code",
   "execution_count": 93,
   "metadata": {},
   "outputs": [
    {
     "name": "stdout",
     "output_type": "stream",
     "text": [
      "Family Annual Income (NPR)  What is the type of your household? [Current]\n",
      "1,00,000-3,00,000           Brick masonary household                         104\n",
      "                            Timber frame household                            66\n",
      "                            Stone masonry household                           10\n",
      "                            Concrete-block household                           9\n",
      "                            Corrugated metal household                         1\n",
      "3,00,000-5,00,000           Brick masonary household                         131\n",
      "                            Timber frame household                            38\n",
      "                            Concrete-block household                           8\n",
      "                            Stone masonry household                            3\n",
      "                            Thatched household                                 1\n",
      "5,00,000 and above          Brick masonary household                          48\n",
      "                            Concrete-block household                          10\n",
      "                            Timber frame household                             2\n",
      "                            Stone masonry household                            2\n",
      "                            Corrugated metal household                         1\n",
      "50,000-1,00,000             Brick masonary household                          43\n",
      "                            Concrete-block household                          18\n",
      "                            Timber frame household                             8\n",
      "                            Stone masonry household                            4\n",
      "                            Bamboo household                                   3\n",
      "                            Corrugated metal household                         2\n",
      "<50,000                     Brick masonary household                          32\n",
      "                            Concrete-block household                           8\n",
      "                            Timber frame household                             5\n",
      "                            Stone masonry household                            4\n",
      "                            Corrugated metal household                         3\n",
      "                            Bamboo household                                   1\n",
      "dtype: int64\n"
     ]
    }
   ],
   "source": [
    "print(data.groupby([\"Family Annual Income (NPR)\"])[[\"What is the type of your household? [Current]\"]].value_counts())\n"
   ]
  },
  {
   "cell_type": "code",
   "execution_count": 94,
   "metadata": {},
   "outputs": [
    {
     "name": "stdout",
     "output_type": "stream",
     "text": [
      "Family Annual Income (NPR)  What were primary source of energy used for cooking in your house? [Current]                             \n",
      "1,00,000-3,00,000           LPG(Liquefied petroleum gas)                                                                                 107\n",
      "                            Biomass(wood, agriculltural residue)                                                                          33\n",
      "                            Biomass(wood, agriculltural residue), LPG(Liquefied petroleum gas)                                            21\n",
      "                            LPG(Liquefied petroleum gas), Electricity                                                                     11\n",
      "                            Electricity                                                                                                    4\n",
      "                            Biomass(wood, agriculltural residue), LPG(Liquefied petroleum gas), Electricity                                4\n",
      "                            Biomass(wood, agriculltural residue), LPG(Liquefied petroleum gas), Bio gas                                    2\n",
      "                            Biomass(wood, agriculltural residue), Electricity                                                              1\n",
      "                            Biomass(wood, agriculltural residue), LPG(Liquefied petroleum gas), Forest residue                             1\n",
      "                            Electricity, Kerosene                                                                                          1\n",
      "                            LPG(Liquefied petroleum gas), Electricity, Bio gas                                                             1\n",
      "                            LPG(Liquefied petroleum gas), Electricity, Forest residue                                                      1\n",
      "                            LPG(Liquefied petroleum gas), Electricity, Solar PV system                                                     1\n",
      "                            LPG(Liquefied petroleum gas), Forest residue                                                                   1\n",
      "                            Biomass(wood, agriculltural residue), Bio gas                                                                  1\n",
      "3,00,000-5,00,000           LPG(Liquefied petroleum gas)                                                                                 125\n",
      "                            Biomass(wood, agriculltural residue), LPG(Liquefied petroleum gas)                                            22\n",
      "                            Biomass(wood, agriculltural residue)                                                                          15\n",
      "                            LPG(Liquefied petroleum gas), Electricity                                                                      8\n",
      "                            Biomass(wood, agriculltural residue), LPG(Liquefied petroleum gas), Electricity                                4\n",
      "                            Biomass(wood, agriculltural residue), LPG(Liquefied petroleum gas), Bio gas                                    2\n",
      "                            Biomass(wood, agriculltural residue), LPG(Liquefied petroleum gas), Electricity, Solar PV system               1\n",
      "                            Electricity                                                                                                    1\n",
      "                            LPG(Liquefied petroleum gas), Bio gas                                                                          1\n",
      "                            LPG(Liquefied petroleum gas), Electricity, Bio gas                                                             1\n",
      "                            LPG(Liquefied petroleum gas), Electricity, Solar PV system                                                     1\n",
      "5,00,000 and above          LPG(Liquefied petroleum gas)                                                                                  36\n",
      "                            LPG(Liquefied petroleum gas), Electricity                                                                     13\n",
      "                            Biomass(wood, agriculltural residue), LPG(Liquefied petroleum gas)                                             3\n",
      "                            Electricity                                                                                                    3\n",
      "                            Biomass(wood, agriculltural residue), LPG(Liquefied petroleum gas), Electricity                                3\n",
      "                            Biomass(wood, agriculltural residue), LPG(Liquefied petroleum gas), Electricity, Solar PV system, Bio gas      1\n",
      "                            Biomass(wood, agriculltural residue)                                                                           1\n",
      "                            Biomass(wood, agriculltural residue), LPG(Liquefied petroleum gas), Electricity, Bio gas                       1\n",
      "                            Electricity, Bio gas                                                                                           1\n",
      "                            LPG(Liquefied petroleum gas), Electricity, Solar PV system                                                     1\n",
      "50,000-1,00,000             LPG(Liquefied petroleum gas)                                                                                  39\n",
      "                            Biomass(wood, agriculltural residue), LPG(Liquefied petroleum gas)                                             9\n",
      "                            Biomass(wood, agriculltural residue)                                                                           8\n",
      "                            LPG(Liquefied petroleum gas), Electricity                                                                      6\n",
      "                            Biomass(wood, agriculltural residue), LPG(Liquefied petroleum gas), Electricity                                5\n",
      "                            Forest residue                                                                                                 2\n",
      "                            LPG(Liquefied petroleum gas), Forest residue                                                                   2\n",
      "                            Biomass(wood, agriculltural residue), LPG(Liquefied petroleum gas), Solar PV system, Forest residue            1\n",
      "                            Biomass(wood, agriculltural residue), LPG(Liquefied petroleum gas), Electricity, Solar PV system               1\n",
      "                            Electricity                                                                                                    1\n",
      "                            Electricity, Solar PV system                                                                                   1\n",
      "                            LPG(Liquefied petroleum gas), Electricity, Bio gas, Forest residue                                             1\n",
      "                            Biomass(wood, agriculltural residue), LPG(Liquefied petroleum gas), Bio gas                                    1\n",
      "                            Bio gas                                                                                                        1\n",
      "<50,000                     LPG(Liquefied petroleum gas)                                                                                  30\n",
      "                            Biomass(wood, agriculltural residue)                                                                           6\n",
      "                            Biomass(wood, agriculltural residue), LPG(Liquefied petroleum gas)                                             6\n",
      "                            Biomass(wood, agriculltural residue), LPG(Liquefied petroleum gas), Electricity                                3\n",
      "                            LPG(Liquefied petroleum gas), Electricity                                                                      2\n",
      "                            Electricity                                                                                                    2\n",
      "                            Forest residue                                                                                                 1\n",
      "                            Bio gas                                                                                                        1\n",
      "                            Biomass(wood, agriculltural residue), LPG(Liquefied petroleum gas), Electricity, Bio gas                       1\n",
      "                            LPG(Liquefied petroleum gas), Electricity, Bio gas                                                             1\n",
      "dtype: int64\n"
     ]
    }
   ],
   "source": [
    "print(data.groupby([\"Family Annual Income (NPR)\"])[[\"What were primary source of energy used for cooking in your house? [Current]\"]].value_counts())"
   ]
  },
  {
   "cell_type": "markdown",
   "metadata": {},
   "source": [
    "# Road Access"
   ]
  },
  {
   "cell_type": "code",
   "execution_count": 95,
   "metadata": {},
   "outputs": [
    {
     "name": "stdout",
     "output_type": "stream",
     "text": [
      "Chi2Statistic: 37.786132511790456, pvalue: 0.5703505470594588, dof: 40\n"
     ]
    }
   ],
   "source": [
    "#Sources of energy and road access\n",
    "data_select= pd.crosstab(data[\"What sources of energy is used most at your home? [Current]\"],data[\"What kind of  road access do you have at your locality?\"])\n",
    "print(f\"Chi2Statistic: {chi2_contingency(data_select)[0]}, pvalue: {chi2_contingency(data_select)[1]}, dof: {chi2_contingency(data_select)[2]}\")\n"
   ]
  },
  {
   "cell_type": "code",
   "execution_count": 96,
   "metadata": {},
   "outputs": [
    {
     "name": "stdout",
     "output_type": "stream",
     "text": [
      "Chi2Statistic: 42.10605029854251, pvalue: 0.9843510106700779, dof: 64\n"
     ]
    }
   ],
   "source": [
    "#Sources of energy used for lightning your house and Road access\n",
    "data_select= pd.crosstab(data[\"What were the primary sources of energy used for lightning your house? [Current]\"],data[\"What kind of  road access do you have at your locality?\"])\n",
    "print(f\"Chi2Statistic: {chi2_contingency(data_select)[0]}, pvalue: {chi2_contingency(data_select)[1]}, dof: {chi2_contingency(data_select)[2]}\")\n"
   ]
  },
  {
   "cell_type": "code",
   "execution_count": 97,
   "metadata": {},
   "outputs": [
    {
     "name": "stdout",
     "output_type": "stream",
     "text": [
      "Chi2Statistic: 100.70682261941951, pvalue: 0.9999999930286272, dof: 192\n"
     ]
    }
   ],
   "source": [
    "#Sources of energy used for cooking and Road access\n",
    "data_select= pd.crosstab(data[\"What were primary source of energy used for cooking in your house? [Current]\"],data[\"What kind of  road access do you have at your locality?\"])\n",
    "print(f\"Chi2Statistic: {chi2_contingency(data_select)[0]}, pvalue: {chi2_contingency(data_select)[1]}, dof: {chi2_contingency(data_select)[2]}\")\n"
   ]
  },
  {
   "cell_type": "code",
   "execution_count": 98,
   "metadata": {},
   "outputs": [
    {
     "name": "stdout",
     "output_type": "stream",
     "text": [
      "Chi2Statistic: 160.78146542702146, pvalue: 9.911608019259862e-09, dof: 72\n"
     ]
    }
   ],
   "source": [
    "#Sources of energy used for cooling and Road access\n",
    "data_select= pd.crosstab(data[\"What were the primary sources of energy used for cooling purposes? [Current]\"],data[\"What kind of  road access do you have at your locality?\"])\n",
    "print(f\"Chi2Statistic: {chi2_contingency(data_select)[0]}, pvalue: {chi2_contingency(data_select)[1]}, dof: {chi2_contingency(data_select)[2]}\")\n"
   ]
  },
  {
   "cell_type": "code",
   "execution_count": 99,
   "metadata": {},
   "outputs": [
    {
     "name": "stdout",
     "output_type": "stream",
     "text": [
      "Chi2Statistic: 647.9672456383558, pvalue: 1.588296251330442e-57, dof: 168\n"
     ]
    }
   ],
   "source": [
    "#Sources of energy used for heating(space) purposes and Road access\n",
    "data_select= pd.crosstab(data[\"What were the primary sources of energy used for heating(space) purposes? [Current]\"],data[\"What kind of  road access do you have at your locality?\"])\n",
    "print(f\"Chi2Statistic: {chi2_contingency(data_select)[0]}, pvalue: {chi2_contingency(data_select)[1]}, dof: {chi2_contingency(data_select)[2]}\")\n"
   ]
  },
  {
   "cell_type": "markdown",
   "metadata": {},
   "source": [
    "# Fathers Education Level"
   ]
  },
  {
   "cell_type": "code",
   "execution_count": 100,
   "metadata": {},
   "outputs": [
    {
     "name": "stdout",
     "output_type": "stream",
     "text": [
      "Chi2Statistic: 73.50986103023571, pvalue: 0.0002241462522556111, dof: 36\n"
     ]
    }
   ],
   "source": [
    "#Sources of energy used for cooling and Fathers Education level\n",
    "data_select= pd.crosstab(data[\"What were the primary sources of energy used for cooling purposes? [Current]\"],data[\"Father education level\"])\n",
    "print(f\"Chi2Statistic: {chi2_contingency(data_select)[0]}, pvalue: {chi2_contingency(data_select)[1]}, dof: {chi2_contingency(data_select)[2]}\")\n"
   ]
  },
  {
   "cell_type": "code",
   "execution_count": 101,
   "metadata": {},
   "outputs": [
    {
     "name": "stdout",
     "output_type": "stream",
     "text": [
      "Chi2Statistic: 54.63113834996191, pvalue: 0.007593822403996917, dof: 32\n"
     ]
    }
   ],
   "source": [
    "#Sources of energy used for lightning your house and Fathers education\n",
    "data_select= pd.crosstab(data[\"What were the primary sources of energy used for lightning your house? [Current]\"],data[\"Father education level\"])\n",
    "print(f\"Chi2Statistic: {chi2_contingency(data_select)[0]}, pvalue: {chi2_contingency(data_select)[1]}, dof: {chi2_contingency(data_select)[2]}\")\n"
   ]
  },
  {
   "cell_type": "code",
   "execution_count": 102,
   "metadata": {},
   "outputs": [
    {
     "name": "stdout",
     "output_type": "stream",
     "text": [
      "Chi2Statistic: 134.78099659808467, pvalue: 0.0003685990657747993, dof: 84\n"
     ]
    }
   ],
   "source": [
    "#Sources of energy used for heating(space) purposes and Fathers education\n",
    "data_select= pd.crosstab(data[\"What were the primary sources of energy used for heating(space) purposes? [Current]\"],data[\"Father education level\"])\n",
    "print(f\"Chi2Statistic: {chi2_contingency(data_select)[0]}, pvalue: {chi2_contingency(data_select)[1]}, dof: {chi2_contingency(data_select)[2]}\")\n"
   ]
  },
  {
   "cell_type": "code",
   "execution_count": 103,
   "metadata": {},
   "outputs": [
    {
     "name": "stdout",
     "output_type": "stream",
     "text": [
      "Chi2Statistic: 67.64444251151785, pvalue: 4.394373860837235e-07, dof: 20\n"
     ]
    }
   ],
   "source": [
    "#Sources of energy and Fathers education\n",
    "data_select= pd.crosstab(data[\"What sources of energy is used most at your home? [Current]\"],data[\"Father education level\"])\n",
    "print(f\"Chi2Statistic: {chi2_contingency(data_select)[0]}, pvalue: {chi2_contingency(data_select)[1]}, dof: {chi2_contingency(data_select)[2]}\")\n"
   ]
  },
  {
   "cell_type": "code",
   "execution_count": 104,
   "metadata": {},
   "outputs": [
    {
     "name": "stdout",
     "output_type": "stream",
     "text": [
      "Chi2Statistic: 204.61949425085845, pvalue: 7.616546938246513e-10, dof: 96\n"
     ]
    }
   ],
   "source": [
    "#Sources of energy used for cooking and Fathers education\n",
    "data_select= pd.crosstab(data[\"What were primary source of energy used for cooking in your house? [Current]\"],data[\"Father education level\"])\n",
    "print(f\"Chi2Statistic: {chi2_contingency(data_select)[0]}, pvalue: {chi2_contingency(data_select)[1]}, dof: {chi2_contingency(data_select)[2]}\")\n"
   ]
  },
  {
   "cell_type": "markdown",
   "metadata": {},
   "source": [
    "# Mothers Education level"
   ]
  },
  {
   "cell_type": "code",
   "execution_count": 105,
   "metadata": {},
   "outputs": [
    {
     "name": "stdout",
     "output_type": "stream",
     "text": [
      "Chi2Statistic: 46.1234546409395, pvalue: 0.0007751632702315216, dof: 20\n"
     ]
    }
   ],
   "source": [
    "#Sources of energy and mothers education level\n",
    "data_select= pd.crosstab(data[\"What sources of energy is used most at your home? [Current]\"],data[\"Mother education level\"])\n",
    "print(f\"Chi2Statistic: {chi2_contingency(data_select)[0]}, pvalue: {chi2_contingency(data_select)[1]}, dof: {chi2_contingency(data_select)[2]}\")\n"
   ]
  },
  {
   "cell_type": "code",
   "execution_count": 106,
   "metadata": {},
   "outputs": [
    {
     "name": "stdout",
     "output_type": "stream",
     "text": [
      "Chi2Statistic: 203.25676190817478, pvalue: 1.1056305898459405e-09, dof: 96\n"
     ]
    }
   ],
   "source": [
    "#Sources of energy used for cooking and mothers education level\n",
    "data_select= pd.crosstab(data[\"What were primary source of energy used for cooking in your house? [Current]\"],data[\"Mother education level\"])\n",
    "print(f\"Chi2Statistic: {chi2_contingency(data_select)[0]}, pvalue: {chi2_contingency(data_select)[1]}, dof: {chi2_contingency(data_select)[2]}\")\n"
   ]
  },
  {
   "cell_type": "code",
   "execution_count": 107,
   "metadata": {},
   "outputs": [
    {
     "name": "stdout",
     "output_type": "stream",
     "text": [
      "Chi2Statistic: 62.03471074261181, pvalue: 0.004482989497465939, dof: 36\n"
     ]
    }
   ],
   "source": [
    "#Sources of energy used for cooling and mothers education level\n",
    "data_select= pd.crosstab(data[\"What were the primary sources of energy used for cooling purposes? [Current]\"],data[\"Mother education level\"])\n",
    "print(f\"Chi2Statistic: {chi2_contingency(data_select)[0]}, pvalue: {chi2_contingency(data_select)[1]}, dof: {chi2_contingency(data_select)[2]}\")\n"
   ]
  },
  {
   "cell_type": "code",
   "execution_count": 108,
   "metadata": {},
   "outputs": [
    {
     "name": "stdout",
     "output_type": "stream",
     "text": [
      "Chi2Statistic: 42.03172602286078, pvalue: 0.11044932750042494, dof: 32\n"
     ]
    }
   ],
   "source": [
    "#Sources of energy used for lightning your house and mothers education level\n",
    "data_select= pd.crosstab(data[\"What were the primary sources of energy used for lightning your house? [Current]\"],data[\"Mother education level\"])\n",
    "print(f\"Chi2Statistic: {chi2_contingency(data_select)[0]}, pvalue: {chi2_contingency(data_select)[1]}, dof: {chi2_contingency(data_select)[2]}\")\n"
   ]
  },
  {
   "cell_type": "code",
   "execution_count": 109,
   "metadata": {},
   "outputs": [
    {
     "name": "stdout",
     "output_type": "stream",
     "text": [
      "Chi2Statistic: 131.86628399194043, pvalue: 0.0006654661005679599, dof: 84\n"
     ]
    }
   ],
   "source": [
    "#Sources of energy used for heating(space) purposes and mothers education level\n",
    "data_select= pd.crosstab(data[\"What were the primary sources of energy used for heating(space) purposes? [Current]\"],data[\"Mother education level\"])\n",
    "print(f\"Chi2Statistic: {chi2_contingency(data_select)[0]}, pvalue: {chi2_contingency(data_select)[1]}, dof: {chi2_contingency(data_select)[2]}\")\n"
   ]
  },
  {
   "cell_type": "markdown",
   "metadata": {},
   "source": [
    "# Family Income"
   ]
  },
  {
   "cell_type": "code",
   "execution_count": 110,
   "metadata": {},
   "outputs": [
    {
     "name": "stdout",
     "output_type": "stream",
     "text": [
      "Chi2Statistic: 35.66575898095622, pvalue: 0.01683197966322489, dof: 20\n"
     ]
    }
   ],
   "source": [
    "#Sources of energy and income\n",
    "data_select= pd.crosstab(data[\"What sources of energy is used most at your home? [Current]\"],data[\"Family Annual Income (NPR)\"])\n",
    "print(f\"Chi2Statistic: {chi2_contingency(data_select)[0]}, pvalue: {chi2_contingency(data_select)[1]}, dof: {chi2_contingency(data_select)[2]}\")\n"
   ]
  },
  {
   "cell_type": "code",
   "execution_count": 111,
   "metadata": {},
   "outputs": [
    {
     "name": "stdout",
     "output_type": "stream",
     "text": [
      "Chi2Statistic: 138.3582617700543, pvalue: 0.0030445196886195428, dof: 96\n"
     ]
    }
   ],
   "source": [
    "#Sources of energy used for cooking and income\n",
    "data_select= pd.crosstab(data[\"What were primary source of energy used for cooking in your house? [Current]\"],data[\"Family Annual Income (NPR)\"])\n",
    "print(f\"Chi2Statistic: {chi2_contingency(data_select)[0]}, pvalue: {chi2_contingency(data_select)[1]}, dof: {chi2_contingency(data_select)[2]}\")\n"
   ]
  },
  {
   "cell_type": "code",
   "execution_count": 112,
   "metadata": {},
   "outputs": [
    {
     "name": "stdout",
     "output_type": "stream",
     "text": [
      "Chi2Statistic: 49.7846252507003, pvalue: 0.06296501720081439, dof: 36\n"
     ]
    }
   ],
   "source": [
    "#Sources of energy used for cooling and income\n",
    "data_select= pd.crosstab(data[\"What were the primary sources of energy used for cooling purposes? [Current]\"],data[\"Family Annual Income (NPR)\"])\n",
    "print(f\"Chi2Statistic: {chi2_contingency(data_select)[0]}, pvalue: {chi2_contingency(data_select)[1]}, dof: {chi2_contingency(data_select)[2]}\")\n"
   ]
  },
  {
   "cell_type": "code",
   "execution_count": 113,
   "metadata": {},
   "outputs": [
    {
     "name": "stdout",
     "output_type": "stream",
     "text": [
      "Chi2Statistic: 170.02121664687644, pvalue: 8.746409304035525e-08, dof: 84\n"
     ]
    }
   ],
   "source": [
    "#Sources of energy used for heating(space) purposes and income\n",
    "data_select= pd.crosstab(data[\"What were the primary sources of energy used for heating(space) purposes? [Current]\"],data[\"Family Annual Income (NPR)\"])\n",
    "print(f\"Chi2Statistic: {chi2_contingency(data_select)[0]}, pvalue: {chi2_contingency(data_select)[1]}, dof: {chi2_contingency(data_select)[2]}\")\n"
   ]
  },
  {
   "cell_type": "code",
   "execution_count": 114,
   "metadata": {},
   "outputs": [
    {
     "name": "stdout",
     "output_type": "stream",
     "text": [
      "Chi2Statistic: 53.23868411841722, pvalue: 0.010603903388449016, dof: 32\n"
     ]
    }
   ],
   "source": [
    "#Sources of energy used for lightning your house and income\n",
    "data_select= pd.crosstab(data[\"What were the primary sources of energy used for lightning your house? [Current]\"],data[\"Family Annual Income (NPR)\"])\n",
    "print(f\"Chi2Statistic: {chi2_contingency(data_select)[0]}, pvalue: {chi2_contingency(data_select)[1]}, dof: {chi2_contingency(data_select)[2]}\")\n"
   ]
  }
 ],
 "metadata": {
  "kernelspec": {
   "display_name": "ml_env",
   "language": "python",
   "name": "python3"
  },
  "language_info": {
   "codemirror_mode": {
    "name": "ipython",
    "version": 3
   },
   "file_extension": ".py",
   "mimetype": "text/x-python",
   "name": "python",
   "nbconvert_exporter": "python",
   "pygments_lexer": "ipython3",
   "version": "3.10.11"
  },
  "orig_nbformat": 4
 },
 "nbformat": 4,
 "nbformat_minor": 2
}
